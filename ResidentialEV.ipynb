{
 "cells": [
  {
   "cell_type": "markdown",
   "metadata": {},
   "source": [
    "# Predicting Residential EV Charging Loads using Neural Networks"
   ]
  },
  {
   "cell_type": "code",
   "execution_count": 74,
   "metadata": {},
   "outputs": [],
   "source": [
    "import numpy as np\n",
    "import pandas as pd\n",
    "import torch\n",
    "import torch.nn as nn\n",
    "import torch.optim as optim"
   ]
  },
  {
   "cell_type": "markdown",
   "metadata": {},
   "source": [
    "## Load, Inspect, and Merge Datasets"
   ]
  },
  {
   "cell_type": "markdown",
   "metadata": {},
   "source": [
    "### Task 1\n",
    "\n",
    "The file `'datasets/EV charging reports.csv'` contains electric vehicle (EV) charging data. These come from various residential apartment buildings in Norway. The data includes specific user and garage information, plug-in and plug-out times, charging loads, and the dates of the charging sessions.\n",
    "\n",
    "Import this CSV file to a pandas DataFrame named `ev_charging_reports`.\n",
    "\n",
    "Use the `.head()` method to preview the first five rows."
   ]
  },
  {
   "cell_type": "code",
   "execution_count": 75,
   "metadata": {},
   "outputs": [
    {
     "data": {
      "text/html": [
       "<div>\n",
       "<style scoped>\n",
       "    .dataframe tbody tr th:only-of-type {\n",
       "        vertical-align: middle;\n",
       "    }\n",
       "\n",
       "    .dataframe tbody tr th {\n",
       "        vertical-align: top;\n",
       "    }\n",
       "\n",
       "    .dataframe thead th {\n",
       "        text-align: right;\n",
       "    }\n",
       "</style>\n",
       "<table border=\"1\" class=\"dataframe\">\n",
       "  <thead>\n",
       "    <tr style=\"text-align: right;\">\n",
       "      <th></th>\n",
       "      <th>session_ID</th>\n",
       "      <th>Garage_ID</th>\n",
       "      <th>User_ID</th>\n",
       "      <th>User_type</th>\n",
       "      <th>Shared_ID</th>\n",
       "      <th>Start_plugin</th>\n",
       "      <th>Start_plugin_hour</th>\n",
       "      <th>End_plugout</th>\n",
       "      <th>End_plugout_hour</th>\n",
       "      <th>El_kWh</th>\n",
       "      <th>Duration_hours</th>\n",
       "      <th>month_plugin</th>\n",
       "      <th>weekdays_plugin</th>\n",
       "      <th>Plugin_category</th>\n",
       "      <th>Duration_category</th>\n",
       "    </tr>\n",
       "  </thead>\n",
       "  <tbody>\n",
       "    <tr>\n",
       "      <th>0</th>\n",
       "      <td>1</td>\n",
       "      <td>AdO3</td>\n",
       "      <td>AdO3-4</td>\n",
       "      <td>Private</td>\n",
       "      <td>NaN</td>\n",
       "      <td>21.12.2018 10:20</td>\n",
       "      <td>21.12.2018 10:00</td>\n",
       "      <td>21.12.2018 10:23</td>\n",
       "      <td>10.0</td>\n",
       "      <td>0,3</td>\n",
       "      <td>0,05</td>\n",
       "      <td>Dec</td>\n",
       "      <td>Friday</td>\n",
       "      <td>late morning (9-12)</td>\n",
       "      <td>Less than 3 hours</td>\n",
       "    </tr>\n",
       "    <tr>\n",
       "      <th>1</th>\n",
       "      <td>2</td>\n",
       "      <td>AdO3</td>\n",
       "      <td>AdO3-4</td>\n",
       "      <td>Private</td>\n",
       "      <td>NaN</td>\n",
       "      <td>21.12.2018 10:24</td>\n",
       "      <td>21.12.2018 10:00</td>\n",
       "      <td>21.12.2018 10:32</td>\n",
       "      <td>10.0</td>\n",
       "      <td>0,87</td>\n",
       "      <td>0,136666667</td>\n",
       "      <td>Dec</td>\n",
       "      <td>Friday</td>\n",
       "      <td>late morning (9-12)</td>\n",
       "      <td>Less than 3 hours</td>\n",
       "    </tr>\n",
       "    <tr>\n",
       "      <th>2</th>\n",
       "      <td>3</td>\n",
       "      <td>AdO3</td>\n",
       "      <td>AdO3-4</td>\n",
       "      <td>Private</td>\n",
       "      <td>NaN</td>\n",
       "      <td>21.12.2018 11:33</td>\n",
       "      <td>21.12.2018 11:00</td>\n",
       "      <td>21.12.2018 19:46</td>\n",
       "      <td>19.0</td>\n",
       "      <td>29,87</td>\n",
       "      <td>8,216388889</td>\n",
       "      <td>Dec</td>\n",
       "      <td>Friday</td>\n",
       "      <td>late morning (9-12)</td>\n",
       "      <td>Between 6 and 9  hours</td>\n",
       "    </tr>\n",
       "    <tr>\n",
       "      <th>3</th>\n",
       "      <td>4</td>\n",
       "      <td>AdO3</td>\n",
       "      <td>AdO3-2</td>\n",
       "      <td>Private</td>\n",
       "      <td>NaN</td>\n",
       "      <td>22.12.2018 16:15</td>\n",
       "      <td>22.12.2018 16:00</td>\n",
       "      <td>23.12.2018 16:40</td>\n",
       "      <td>16.0</td>\n",
       "      <td>15,56</td>\n",
       "      <td>24,41972222</td>\n",
       "      <td>Dec</td>\n",
       "      <td>Saturday</td>\n",
       "      <td>late afternoon (15-18)</td>\n",
       "      <td>More than 18 hours</td>\n",
       "    </tr>\n",
       "    <tr>\n",
       "      <th>4</th>\n",
       "      <td>5</td>\n",
       "      <td>AdO3</td>\n",
       "      <td>AdO3-2</td>\n",
       "      <td>Private</td>\n",
       "      <td>NaN</td>\n",
       "      <td>24.12.2018 22:03</td>\n",
       "      <td>24.12.2018 22:00</td>\n",
       "      <td>24.12.2018 23:02</td>\n",
       "      <td>23.0</td>\n",
       "      <td>3,62</td>\n",
       "      <td>0,970555556</td>\n",
       "      <td>Dec</td>\n",
       "      <td>Monday</td>\n",
       "      <td>late evening (21-midnight)</td>\n",
       "      <td>Less than 3 hours</td>\n",
       "    </tr>\n",
       "  </tbody>\n",
       "</table>\n",
       "</div>"
      ],
      "text/plain": [
       "   session_ID Garage_ID User_ID User_type Shared_ID      Start_plugin  \\\n",
       "0           1      AdO3  AdO3-4   Private       NaN  21.12.2018 10:20   \n",
       "1           2      AdO3  AdO3-4   Private       NaN  21.12.2018 10:24   \n",
       "2           3      AdO3  AdO3-4   Private       NaN  21.12.2018 11:33   \n",
       "3           4      AdO3  AdO3-2   Private       NaN  22.12.2018 16:15   \n",
       "4           5      AdO3  AdO3-2   Private       NaN  24.12.2018 22:03   \n",
       "\n",
       "  Start_plugin_hour       End_plugout  End_plugout_hour El_kWh Duration_hours  \\\n",
       "0  21.12.2018 10:00  21.12.2018 10:23              10.0    0,3           0,05   \n",
       "1  21.12.2018 10:00  21.12.2018 10:32              10.0   0,87    0,136666667   \n",
       "2  21.12.2018 11:00  21.12.2018 19:46              19.0  29,87    8,216388889   \n",
       "3  22.12.2018 16:00  23.12.2018 16:40              16.0  15,56    24,41972222   \n",
       "4  24.12.2018 22:00  24.12.2018 23:02              23.0   3,62    0,970555556   \n",
       "\n",
       "  month_plugin weekdays_plugin             Plugin_category  \\\n",
       "0          Dec          Friday         late morning (9-12)   \n",
       "1          Dec          Friday         late morning (9-12)   \n",
       "2          Dec          Friday         late morning (9-12)   \n",
       "3          Dec        Saturday      late afternoon (15-18)   \n",
       "4          Dec          Monday  late evening (21-midnight)   \n",
       "\n",
       "        Duration_category  \n",
       "0       Less than 3 hours  \n",
       "1       Less than 3 hours  \n",
       "2  Between 6 and 9  hours  \n",
       "3      More than 18 hours  \n",
       "4       Less than 3 hours  "
      ]
     },
     "execution_count": 75,
     "metadata": {},
     "output_type": "execute_result"
    }
   ],
   "source": [
    "ev_charging_reports = pd.read_csv('Dataset 1_EV charging reports.csv', sep=';')\n",
    "pd.read_csv\n",
    "ev_charging_reports['Start_plugin_hour'] = ev_charging_reports['Start_plugin'].apply(lambda x: x[:-3]) + ':00'\n",
    "ev_charging_reports.head()"
   ]
  },
  {
   "cell_type": "markdown",
   "metadata": {},
   "source": [
    "<details><summary style=\"display:list-item; font-size:16px; color:blue;\">What is the structure of the dataset?</summary>\n",
    "\n",
    "- **session_ID** - the unique id for each EV charging session\n",
    "- **Garage_ID** - the unique id for the garage of the apartment\n",
    "- **User_ID** - the unique id for each user\n",
    "- **User_private** - 1.0 indicates private charge point spaces and 0.0 indicates shared charge point spaces\n",
    "- **Shared_ID** - the unique id if shared charge point spaces are used\n",
    "- **Start_plugin** - the plug-in date and time in the format (day.month.year hour:minute)\n",
    "- **Start_plugin_hour** - the plug-in date and time rounded to the start of the hour\n",
    "- **End_plugout** - the plug-out date and time in the format (day.month.year hour:minute)\n",
    "- **End_plugout_hour** - the start of the hour of the `End_plugout` hour\n",
    "- **El_kWh** - the charged energy in kWh (charging loads)\n",
    "- **Duration_hours** - the duration of the EV connection time per session\n",
    "- **Plugin_category** - the plug-in time categorized by early/late night, morning, afternoon, and evening\n",
    "- **Duration_category** - the plug-in duration categorized by 3 hour groups\n",
    "- **month_plugin_{month}** - the month of the plug-in session\n",
    "- **weekdays_plugin_{day}** - the day of the week of the plug-in session"
   ]
  },
  {
   "cell_type": "markdown",
   "metadata": {},
   "source": [
    "### Task 2\n",
    "\n",
    "Import the file `'datasets/Local traffic distribution.csv'` to a pandas DataFrame named `traffic_reports`. This dataset contains the hourly local traffic density counts at 5 nearby traffic locations. \n",
    "\n",
    "Preview the first five rows."
   ]
  },
  {
   "cell_type": "code",
   "execution_count": 76,
   "metadata": {},
   "outputs": [
    {
     "data": {
      "text/html": [
       "<div>\n",
       "<style scoped>\n",
       "    .dataframe tbody tr th:only-of-type {\n",
       "        vertical-align: middle;\n",
       "    }\n",
       "\n",
       "    .dataframe tbody tr th {\n",
       "        vertical-align: top;\n",
       "    }\n",
       "\n",
       "    .dataframe thead th {\n",
       "        text-align: right;\n",
       "    }\n",
       "</style>\n",
       "<table border=\"1\" class=\"dataframe\">\n",
       "  <thead>\n",
       "    <tr style=\"text-align: right;\">\n",
       "      <th></th>\n",
       "      <th>Date_from</th>\n",
       "      <th>Date_to</th>\n",
       "      <th>KROPPAN BRU</th>\n",
       "      <th>MOHOLTLIA</th>\n",
       "      <th>SELSBAKK</th>\n",
       "      <th>MOHOLT RAMPE 2</th>\n",
       "      <th>Jonsvannsveien vest for Steinanvegen</th>\n",
       "    </tr>\n",
       "  </thead>\n",
       "  <tbody>\n",
       "    <tr>\n",
       "      <th>0</th>\n",
       "      <td>01.12.2018 00:00</td>\n",
       "      <td>01.12.2018 01:00</td>\n",
       "      <td>639</td>\n",
       "      <td>0</td>\n",
       "      <td>0</td>\n",
       "      <td>4</td>\n",
       "      <td>144</td>\n",
       "    </tr>\n",
       "    <tr>\n",
       "      <th>1</th>\n",
       "      <td>01.12.2018 01:00</td>\n",
       "      <td>01.12.2018 02:00</td>\n",
       "      <td>487</td>\n",
       "      <td>153</td>\n",
       "      <td>115</td>\n",
       "      <td>21</td>\n",
       "      <td>83</td>\n",
       "    </tr>\n",
       "    <tr>\n",
       "      <th>2</th>\n",
       "      <td>01.12.2018 02:00</td>\n",
       "      <td>01.12.2018 03:00</td>\n",
       "      <td>408</td>\n",
       "      <td>85</td>\n",
       "      <td>75</td>\n",
       "      <td>10</td>\n",
       "      <td>69</td>\n",
       "    </tr>\n",
       "    <tr>\n",
       "      <th>3</th>\n",
       "      <td>01.12.2018 03:00</td>\n",
       "      <td>01.12.2018 04:00</td>\n",
       "      <td>282</td>\n",
       "      <td>89</td>\n",
       "      <td>56</td>\n",
       "      <td>8</td>\n",
       "      <td>39</td>\n",
       "    </tr>\n",
       "    <tr>\n",
       "      <th>4</th>\n",
       "      <td>01.12.2018 04:00</td>\n",
       "      <td>01.12.2018 05:00</td>\n",
       "      <td>165</td>\n",
       "      <td>64</td>\n",
       "      <td>34</td>\n",
       "      <td>3</td>\n",
       "      <td>25</td>\n",
       "    </tr>\n",
       "  </tbody>\n",
       "</table>\n",
       "</div>"
      ],
      "text/plain": [
       "          Date_from           Date_to KROPPAN BRU MOHOLTLIA SELSBAKK  \\\n",
       "0  01.12.2018 00:00  01.12.2018 01:00         639         0        0   \n",
       "1  01.12.2018 01:00  01.12.2018 02:00         487       153      115   \n",
       "2  01.12.2018 02:00  01.12.2018 03:00         408        85       75   \n",
       "3  01.12.2018 03:00  01.12.2018 04:00         282        89       56   \n",
       "4  01.12.2018 04:00  01.12.2018 05:00         165        64       34   \n",
       "\n",
       "   MOHOLT RAMPE 2  Jonsvannsveien vest for Steinanvegen  \n",
       "0               4                                   144  \n",
       "1              21                                    83  \n",
       "2              10                                    69  \n",
       "3               8                                    39  \n",
       "4               3                                    25  "
      ]
     },
     "execution_count": 76,
     "metadata": {},
     "output_type": "execute_result"
    }
   ],
   "source": [
    "traffic_reports = pd.read_csv('Dataset 6_Local traffic distribution.csv', sep=';')\n",
    "traffic_reports.head()"
   ]
  },
  {
   "cell_type": "markdown",
   "metadata": {},
   "source": [
    "<details><summary style=\"display:list-item; font-size:16px; color:blue;\">What is the structure of the dataset?</summary>\n",
    "\n",
    "- **Date_from** - the starting time in the format (day.month.year hour:minute)\n",
    "- **Date_to** - the ending time in the format (day.month.year hour:minute)\n",
    "- **Location 1 to 5** - contains the number of vehicles each hour at a specified traffic location.\n"
   ]
  },
  {
   "cell_type": "markdown",
   "metadata": {},
   "source": [
    "### Task 3\n",
    "\n",
    "We'd like to use the traffic data to help our model. The same charging location may charge at different rates depending on the number of cars being charged, so this traffic data might help the model out.\n",
    "\n",
    "Merge the `ev_charging_reports` and `traffic_reports` datasets together into a Dataframe named `ev_charging_traffic` using the columns:\n",
    "\n",
    "- `Start_plugin_hour` in `ev_charging_reports`\n",
    "- `Date_from` in `traffic_reports`"
   ]
  },
  {
   "cell_type": "code",
   "execution_count": 77,
   "metadata": {},
   "outputs": [
    {
     "data": {
      "text/html": [
       "<div>\n",
       "<style scoped>\n",
       "    .dataframe tbody tr th:only-of-type {\n",
       "        vertical-align: middle;\n",
       "    }\n",
       "\n",
       "    .dataframe tbody tr th {\n",
       "        vertical-align: top;\n",
       "    }\n",
       "\n",
       "    .dataframe thead th {\n",
       "        text-align: right;\n",
       "    }\n",
       "</style>\n",
       "<table border=\"1\" class=\"dataframe\">\n",
       "  <thead>\n",
       "    <tr style=\"text-align: right;\">\n",
       "      <th></th>\n",
       "      <th>session_ID</th>\n",
       "      <th>Garage_ID</th>\n",
       "      <th>User_ID</th>\n",
       "      <th>User_type</th>\n",
       "      <th>Shared_ID</th>\n",
       "      <th>Start_plugin</th>\n",
       "      <th>Start_plugin_hour</th>\n",
       "      <th>End_plugout</th>\n",
       "      <th>End_plugout_hour</th>\n",
       "      <th>El_kWh</th>\n",
       "      <th>...</th>\n",
       "      <th>weekdays_plugin</th>\n",
       "      <th>Plugin_category</th>\n",
       "      <th>Duration_category</th>\n",
       "      <th>Date_from</th>\n",
       "      <th>Date_to</th>\n",
       "      <th>KROPPAN BRU</th>\n",
       "      <th>MOHOLTLIA</th>\n",
       "      <th>SELSBAKK</th>\n",
       "      <th>MOHOLT RAMPE 2</th>\n",
       "      <th>Jonsvannsveien vest for Steinanvegen</th>\n",
       "    </tr>\n",
       "  </thead>\n",
       "  <tbody>\n",
       "    <tr>\n",
       "      <th>0</th>\n",
       "      <td>1</td>\n",
       "      <td>AdO3</td>\n",
       "      <td>AdO3-4</td>\n",
       "      <td>Private</td>\n",
       "      <td>NaN</td>\n",
       "      <td>21.12.2018 10:20</td>\n",
       "      <td>21.12.2018 10:00</td>\n",
       "      <td>21.12.2018 10:23</td>\n",
       "      <td>10.0</td>\n",
       "      <td>0,3</td>\n",
       "      <td>...</td>\n",
       "      <td>Friday</td>\n",
       "      <td>late morning (9-12)</td>\n",
       "      <td>Less than 3 hours</td>\n",
       "      <td>21.12.2018 10:00</td>\n",
       "      <td>21.12.2018 11:00</td>\n",
       "      <td>3244</td>\n",
       "      <td>1632</td>\n",
       "      <td>545</td>\n",
       "      <td>194</td>\n",
       "      <td>622</td>\n",
       "    </tr>\n",
       "    <tr>\n",
       "      <th>1</th>\n",
       "      <td>2</td>\n",
       "      <td>AdO3</td>\n",
       "      <td>AdO3-4</td>\n",
       "      <td>Private</td>\n",
       "      <td>NaN</td>\n",
       "      <td>21.12.2018 10:24</td>\n",
       "      <td>21.12.2018 10:00</td>\n",
       "      <td>21.12.2018 10:32</td>\n",
       "      <td>10.0</td>\n",
       "      <td>0,87</td>\n",
       "      <td>...</td>\n",
       "      <td>Friday</td>\n",
       "      <td>late morning (9-12)</td>\n",
       "      <td>Less than 3 hours</td>\n",
       "      <td>21.12.2018 10:00</td>\n",
       "      <td>21.12.2018 11:00</td>\n",
       "      <td>3244</td>\n",
       "      <td>1632</td>\n",
       "      <td>545</td>\n",
       "      <td>194</td>\n",
       "      <td>622</td>\n",
       "    </tr>\n",
       "    <tr>\n",
       "      <th>2</th>\n",
       "      <td>3</td>\n",
       "      <td>AdO3</td>\n",
       "      <td>AdO3-4</td>\n",
       "      <td>Private</td>\n",
       "      <td>NaN</td>\n",
       "      <td>21.12.2018 11:33</td>\n",
       "      <td>21.12.2018 11:00</td>\n",
       "      <td>21.12.2018 19:46</td>\n",
       "      <td>19.0</td>\n",
       "      <td>29,87</td>\n",
       "      <td>...</td>\n",
       "      <td>Friday</td>\n",
       "      <td>late morning (9-12)</td>\n",
       "      <td>Between 6 and 9  hours</td>\n",
       "      <td>21.12.2018 11:00</td>\n",
       "      <td>21.12.2018 12:00</td>\n",
       "      <td>3605</td>\n",
       "      <td>1691</td>\n",
       "      <td>605</td>\n",
       "      <td>230</td>\n",
       "      <td>771</td>\n",
       "    </tr>\n",
       "    <tr>\n",
       "      <th>3</th>\n",
       "      <td>4</td>\n",
       "      <td>AdO3</td>\n",
       "      <td>AdO3-2</td>\n",
       "      <td>Private</td>\n",
       "      <td>NaN</td>\n",
       "      <td>22.12.2018 16:15</td>\n",
       "      <td>22.12.2018 16:00</td>\n",
       "      <td>23.12.2018 16:40</td>\n",
       "      <td>16.0</td>\n",
       "      <td>15,56</td>\n",
       "      <td>...</td>\n",
       "      <td>Saturday</td>\n",
       "      <td>late afternoon (15-18)</td>\n",
       "      <td>More than 18 hours</td>\n",
       "      <td>22.12.2018 16:00</td>\n",
       "      <td>22.12.2018 17:00</td>\n",
       "      <td>3052</td>\n",
       "      <td>1484</td>\n",
       "      <td>453</td>\n",
       "      <td>224</td>\n",
       "      <td>694</td>\n",
       "    </tr>\n",
       "    <tr>\n",
       "      <th>4</th>\n",
       "      <td>5</td>\n",
       "      <td>AdO3</td>\n",
       "      <td>AdO3-2</td>\n",
       "      <td>Private</td>\n",
       "      <td>NaN</td>\n",
       "      <td>24.12.2018 22:03</td>\n",
       "      <td>24.12.2018 22:00</td>\n",
       "      <td>24.12.2018 23:02</td>\n",
       "      <td>23.0</td>\n",
       "      <td>3,62</td>\n",
       "      <td>...</td>\n",
       "      <td>Monday</td>\n",
       "      <td>late evening (21-midnight)</td>\n",
       "      <td>Less than 3 hours</td>\n",
       "      <td>24.12.2018 22:00</td>\n",
       "      <td>24.12.2018 23:00</td>\n",
       "      <td>1390</td>\n",
       "      <td>693</td>\n",
       "      <td>226</td>\n",
       "      <td>83</td>\n",
       "      <td>353</td>\n",
       "    </tr>\n",
       "  </tbody>\n",
       "</table>\n",
       "<p>5 rows × 22 columns</p>\n",
       "</div>"
      ],
      "text/plain": [
       "   session_ID Garage_ID User_ID User_type Shared_ID      Start_plugin  \\\n",
       "0           1      AdO3  AdO3-4   Private       NaN  21.12.2018 10:20   \n",
       "1           2      AdO3  AdO3-4   Private       NaN  21.12.2018 10:24   \n",
       "2           3      AdO3  AdO3-4   Private       NaN  21.12.2018 11:33   \n",
       "3           4      AdO3  AdO3-2   Private       NaN  22.12.2018 16:15   \n",
       "4           5      AdO3  AdO3-2   Private       NaN  24.12.2018 22:03   \n",
       "\n",
       "  Start_plugin_hour       End_plugout  End_plugout_hour El_kWh  ...  \\\n",
       "0  21.12.2018 10:00  21.12.2018 10:23              10.0    0,3  ...   \n",
       "1  21.12.2018 10:00  21.12.2018 10:32              10.0   0,87  ...   \n",
       "2  21.12.2018 11:00  21.12.2018 19:46              19.0  29,87  ...   \n",
       "3  22.12.2018 16:00  23.12.2018 16:40              16.0  15,56  ...   \n",
       "4  24.12.2018 22:00  24.12.2018 23:02              23.0   3,62  ...   \n",
       "\n",
       "  weekdays_plugin             Plugin_category       Duration_category  \\\n",
       "0          Friday         late morning (9-12)       Less than 3 hours   \n",
       "1          Friday         late morning (9-12)       Less than 3 hours   \n",
       "2          Friday         late morning (9-12)  Between 6 and 9  hours   \n",
       "3        Saturday      late afternoon (15-18)      More than 18 hours   \n",
       "4          Monday  late evening (21-midnight)       Less than 3 hours   \n",
       "\n",
       "          Date_from           Date_to KROPPAN BRU MOHOLTLIA SELSBAKK  \\\n",
       "0  21.12.2018 10:00  21.12.2018 11:00        3244      1632      545   \n",
       "1  21.12.2018 10:00  21.12.2018 11:00        3244      1632      545   \n",
       "2  21.12.2018 11:00  21.12.2018 12:00        3605      1691      605   \n",
       "3  22.12.2018 16:00  22.12.2018 17:00        3052      1484      453   \n",
       "4  24.12.2018 22:00  24.12.2018 23:00        1390       693      226   \n",
       "\n",
       "  MOHOLT RAMPE 2 Jonsvannsveien vest for Steinanvegen  \n",
       "0            194                                  622  \n",
       "1            194                                  622  \n",
       "2            230                                  771  \n",
       "3            224                                  694  \n",
       "4             83                                  353  \n",
       "\n",
       "[5 rows x 22 columns]"
      ]
     },
     "execution_count": 77,
     "metadata": {},
     "output_type": "execute_result"
    }
   ],
   "source": [
    "ev_charging_traffic = ev_charging_reports.merge(traffic_reports, \n",
    "                                left_on='Start_plugin_hour', \n",
    "                                right_on='Date_from')\n",
    "\n",
    "ev_charging_traffic.head()"
   ]
  },
  {
   "cell_type": "markdown",
   "metadata": {},
   "source": [
    "### Task 4\n",
    "\n",
    "Use `.info()` to inspect the merged dataset. Specifically, pay attention to the data types and number of missing values in each column."
   ]
  },
  {
   "cell_type": "code",
   "execution_count": 78,
   "metadata": {},
   "outputs": [
    {
     "name": "stdout",
     "output_type": "stream",
     "text": [
      "<class 'pandas.core.frame.DataFrame'>\n",
      "Int64Index: 6878 entries, 0 to 6877\n",
      "Data columns (total 22 columns):\n",
      " #   Column                                Non-Null Count  Dtype  \n",
      "---  ------                                --------------  -----  \n",
      " 0   session_ID                            6878 non-null   int64  \n",
      " 1   Garage_ID                             6878 non-null   object \n",
      " 2   User_ID                               6878 non-null   object \n",
      " 3   User_type                             6878 non-null   object \n",
      " 4   Shared_ID                             1412 non-null   object \n",
      " 5   Start_plugin                          6878 non-null   object \n",
      " 6   Start_plugin_hour                     6878 non-null   object \n",
      " 7   End_plugout                           6844 non-null   object \n",
      " 8   End_plugout_hour                      6844 non-null   float64\n",
      " 9   El_kWh                                6878 non-null   object \n",
      " 10  Duration_hours                        6844 non-null   object \n",
      " 11  month_plugin                          6878 non-null   object \n",
      " 12  weekdays_plugin                       6878 non-null   object \n",
      " 13  Plugin_category                       6878 non-null   object \n",
      " 14  Duration_category                     6844 non-null   object \n",
      " 15  Date_from                             6878 non-null   object \n",
      " 16  Date_to                               6878 non-null   object \n",
      " 17  KROPPAN BRU                           6878 non-null   object \n",
      " 18  MOHOLTLIA                             6878 non-null   object \n",
      " 19  SELSBAKK                              6878 non-null   object \n",
      " 20  MOHOLT RAMPE 2                        6878 non-null   int64  \n",
      " 21  Jonsvannsveien vest for Steinanvegen  6878 non-null   int64  \n",
      "dtypes: float64(1), int64(3), object(18)\n",
      "memory usage: 1.2+ MB\n"
     ]
    }
   ],
   "source": [
    "ev_charging_traffic.info()"
   ]
  },
  {
   "cell_type": "markdown",
   "metadata": {},
   "source": [
    "<details><summary style=\"display:list-item; font-size:16px; color:blue;\">What do we notice about merged dataset under inspection?</summary>\n",
    "\n",
    "We see that there are 39 columns and 6,833 rows in our merged dataset.\n",
    "\n",
    "Some notable things we might have to address:\n",
    "\n",
    "- We expected columns like `El_kWh` and `Duration_hours` to be floats but they are actually object data types.\n",
    "\n",
    "- There are many identifying columns like `session_ID` and `User_ID` that might not be useful for training."
   ]
  },
  {
   "cell_type": "markdown",
   "metadata": {},
   "source": [
    "## Task Group 2 - Data Cleaning and Preparation"
   ]
  },
  {
   "cell_type": "markdown",
   "metadata": {},
   "source": [
    "### Task 5\n",
    "\n",
    "Let's start by reducing the size of our dataset by dropping columns that won't be used for training. These include\n",
    "- ID columns\n",
    "- columns with lots of missing data\n",
    "- non-numeric columns (for now, since we haven't yet covered using non-numeric data in neural networks)\n",
    "\n",
    "Drop columns you don't want to use in training from `ev_charging_traffic_hourly`.\n",
    "\n",
    "To match our solution, drop the columns\n",
    "\n",
    "```py\n",
    "['session_ID', 'Garage_ID', 'User_ID', \n",
    "                'Shared_ID',\n",
    "                'Plugin_category','Duration_category', \n",
    "                'Start_plugin', 'Start_plugin_hour', 'End_plugout', 'End_plugout_hour', \n",
    "                'Date_from', 'Date_to']\n",
    "```"
   ]
  },
  {
   "cell_type": "code",
   "execution_count": 79,
   "metadata": {},
   "outputs": [
    {
     "data": {
      "text/html": [
       "<div>\n",
       "<style scoped>\n",
       "    .dataframe tbody tr th:only-of-type {\n",
       "        vertical-align: middle;\n",
       "    }\n",
       "\n",
       "    .dataframe tbody tr th {\n",
       "        vertical-align: top;\n",
       "    }\n",
       "\n",
       "    .dataframe thead th {\n",
       "        text-align: right;\n",
       "    }\n",
       "</style>\n",
       "<table border=\"1\" class=\"dataframe\">\n",
       "  <thead>\n",
       "    <tr style=\"text-align: right;\">\n",
       "      <th></th>\n",
       "      <th>User_type</th>\n",
       "      <th>El_kWh</th>\n",
       "      <th>Duration_hours</th>\n",
       "      <th>month_plugin</th>\n",
       "      <th>weekdays_plugin</th>\n",
       "      <th>KROPPAN BRU</th>\n",
       "      <th>MOHOLTLIA</th>\n",
       "      <th>SELSBAKK</th>\n",
       "      <th>MOHOLT RAMPE 2</th>\n",
       "      <th>Jonsvannsveien vest for Steinanvegen</th>\n",
       "    </tr>\n",
       "  </thead>\n",
       "  <tbody>\n",
       "    <tr>\n",
       "      <th>0</th>\n",
       "      <td>Private</td>\n",
       "      <td>0,3</td>\n",
       "      <td>0,05</td>\n",
       "      <td>Dec</td>\n",
       "      <td>Friday</td>\n",
       "      <td>3244</td>\n",
       "      <td>1632</td>\n",
       "      <td>545</td>\n",
       "      <td>194</td>\n",
       "      <td>622</td>\n",
       "    </tr>\n",
       "    <tr>\n",
       "      <th>1</th>\n",
       "      <td>Private</td>\n",
       "      <td>0,87</td>\n",
       "      <td>0,136666667</td>\n",
       "      <td>Dec</td>\n",
       "      <td>Friday</td>\n",
       "      <td>3244</td>\n",
       "      <td>1632</td>\n",
       "      <td>545</td>\n",
       "      <td>194</td>\n",
       "      <td>622</td>\n",
       "    </tr>\n",
       "    <tr>\n",
       "      <th>2</th>\n",
       "      <td>Private</td>\n",
       "      <td>29,87</td>\n",
       "      <td>8,216388889</td>\n",
       "      <td>Dec</td>\n",
       "      <td>Friday</td>\n",
       "      <td>3605</td>\n",
       "      <td>1691</td>\n",
       "      <td>605</td>\n",
       "      <td>230</td>\n",
       "      <td>771</td>\n",
       "    </tr>\n",
       "    <tr>\n",
       "      <th>3</th>\n",
       "      <td>Private</td>\n",
       "      <td>15,56</td>\n",
       "      <td>24,41972222</td>\n",
       "      <td>Dec</td>\n",
       "      <td>Saturday</td>\n",
       "      <td>3052</td>\n",
       "      <td>1484</td>\n",
       "      <td>453</td>\n",
       "      <td>224</td>\n",
       "      <td>694</td>\n",
       "    </tr>\n",
       "    <tr>\n",
       "      <th>4</th>\n",
       "      <td>Private</td>\n",
       "      <td>3,62</td>\n",
       "      <td>0,970555556</td>\n",
       "      <td>Dec</td>\n",
       "      <td>Monday</td>\n",
       "      <td>1390</td>\n",
       "      <td>693</td>\n",
       "      <td>226</td>\n",
       "      <td>83</td>\n",
       "      <td>353</td>\n",
       "    </tr>\n",
       "  </tbody>\n",
       "</table>\n",
       "</div>"
      ],
      "text/plain": [
       "  User_type El_kWh Duration_hours month_plugin weekdays_plugin KROPPAN BRU  \\\n",
       "0   Private    0,3           0,05          Dec          Friday        3244   \n",
       "1   Private   0,87    0,136666667          Dec          Friday        3244   \n",
       "2   Private  29,87    8,216388889          Dec          Friday        3605   \n",
       "3   Private  15,56    24,41972222          Dec        Saturday        3052   \n",
       "4   Private   3,62    0,970555556          Dec          Monday        1390   \n",
       "\n",
       "  MOHOLTLIA SELSBAKK  MOHOLT RAMPE 2  Jonsvannsveien vest for Steinanvegen  \n",
       "0      1632      545             194                                   622  \n",
       "1      1632      545             194                                   622  \n",
       "2      1691      605             230                                   771  \n",
       "3      1484      453             224                                   694  \n",
       "4       693      226              83                                   353  "
      ]
     },
     "execution_count": 79,
     "metadata": {},
     "output_type": "execute_result"
    }
   ],
   "source": [
    "ev_charging_traffic_hourly = ev_charging_traffic.drop(columns=['session_ID', 'Garage_ID', 'User_ID', \n",
    "                'Shared_ID',\n",
    "                'Plugin_category','Duration_category', \n",
    "                'Start_plugin', 'Start_plugin_hour', 'End_plugout', 'End_plugout_hour', \n",
    "                'Date_from', 'Date_to'])\n",
    "ev_charging_traffic_hourly.head()"
   ]
  },
  {
   "cell_type": "markdown",
   "metadata": {},
   "source": [
    "### Task 6\n",
    "\n",
    "Earlier we saw that the `El_kWh` and `Duration_hours` columns were object data types. Upon further inspection, we see that the reason is that the data is following European notation where commas `,` are used as decimals instead of periods.\n",
    "\n",
    "Replace `,` with `.` in these three columns."
   ]
  },
  {
   "cell_type": "code",
   "execution_count": 80,
   "metadata": {},
   "outputs": [
    {
     "data": {
      "text/html": [
       "<div>\n",
       "<style scoped>\n",
       "    .dataframe tbody tr th:only-of-type {\n",
       "        vertical-align: middle;\n",
       "    }\n",
       "\n",
       "    .dataframe tbody tr th {\n",
       "        vertical-align: top;\n",
       "    }\n",
       "\n",
       "    .dataframe thead th {\n",
       "        text-align: right;\n",
       "    }\n",
       "</style>\n",
       "<table border=\"1\" class=\"dataframe\">\n",
       "  <thead>\n",
       "    <tr style=\"text-align: right;\">\n",
       "      <th></th>\n",
       "      <th>User_type</th>\n",
       "      <th>El_kWh</th>\n",
       "      <th>Duration_hours</th>\n",
       "      <th>month_plugin</th>\n",
       "      <th>weekdays_plugin</th>\n",
       "      <th>KROPPAN BRU</th>\n",
       "      <th>MOHOLTLIA</th>\n",
       "      <th>SELSBAKK</th>\n",
       "      <th>MOHOLT RAMPE 2</th>\n",
       "      <th>Jonsvannsveien vest for Steinanvegen</th>\n",
       "    </tr>\n",
       "  </thead>\n",
       "  <tbody>\n",
       "    <tr>\n",
       "      <th>0</th>\n",
       "      <td>Private</td>\n",
       "      <td>0.3</td>\n",
       "      <td>0.05</td>\n",
       "      <td>Dec</td>\n",
       "      <td>Friday</td>\n",
       "      <td>3244</td>\n",
       "      <td>1632</td>\n",
       "      <td>545</td>\n",
       "      <td>194</td>\n",
       "      <td>622</td>\n",
       "    </tr>\n",
       "    <tr>\n",
       "      <th>1</th>\n",
       "      <td>Private</td>\n",
       "      <td>0.87</td>\n",
       "      <td>0.136666667</td>\n",
       "      <td>Dec</td>\n",
       "      <td>Friday</td>\n",
       "      <td>3244</td>\n",
       "      <td>1632</td>\n",
       "      <td>545</td>\n",
       "      <td>194</td>\n",
       "      <td>622</td>\n",
       "    </tr>\n",
       "    <tr>\n",
       "      <th>2</th>\n",
       "      <td>Private</td>\n",
       "      <td>29.87</td>\n",
       "      <td>8.216388889</td>\n",
       "      <td>Dec</td>\n",
       "      <td>Friday</td>\n",
       "      <td>3605</td>\n",
       "      <td>1691</td>\n",
       "      <td>605</td>\n",
       "      <td>230</td>\n",
       "      <td>771</td>\n",
       "    </tr>\n",
       "    <tr>\n",
       "      <th>3</th>\n",
       "      <td>Private</td>\n",
       "      <td>15.56</td>\n",
       "      <td>24.41972222</td>\n",
       "      <td>Dec</td>\n",
       "      <td>Saturday</td>\n",
       "      <td>3052</td>\n",
       "      <td>1484</td>\n",
       "      <td>453</td>\n",
       "      <td>224</td>\n",
       "      <td>694</td>\n",
       "    </tr>\n",
       "    <tr>\n",
       "      <th>4</th>\n",
       "      <td>Private</td>\n",
       "      <td>3.62</td>\n",
       "      <td>0.970555556</td>\n",
       "      <td>Dec</td>\n",
       "      <td>Monday</td>\n",
       "      <td>1390</td>\n",
       "      <td>693</td>\n",
       "      <td>226</td>\n",
       "      <td>83</td>\n",
       "      <td>353</td>\n",
       "    </tr>\n",
       "  </tbody>\n",
       "</table>\n",
       "</div>"
      ],
      "text/plain": [
       "  User_type El_kWh Duration_hours month_plugin weekdays_plugin KROPPAN BRU  \\\n",
       "0   Private    0.3           0.05          Dec          Friday        3244   \n",
       "1   Private   0.87    0.136666667          Dec          Friday        3244   \n",
       "2   Private  29.87    8.216388889          Dec          Friday        3605   \n",
       "3   Private  15.56    24.41972222          Dec        Saturday        3052   \n",
       "4   Private   3.62    0.970555556          Dec          Monday        1390   \n",
       "\n",
       "  MOHOLTLIA SELSBAKK  MOHOLT RAMPE 2  Jonsvannsveien vest for Steinanvegen  \n",
       "0      1632      545             194                                   622  \n",
       "1      1632      545             194                                   622  \n",
       "2      1691      605             230                                   771  \n",
       "3      1484      453             224                                   694  \n",
       "4       693      226              83                                   353  "
      ]
     },
     "execution_count": 80,
     "metadata": {},
     "output_type": "execute_result"
    }
   ],
   "source": [
    "ev_charging_traffic_hourly['El_kWh'] = ev_charging_traffic_hourly['El_kWh'].str.replace(',', '.')\n",
    "ev_charging_traffic_hourly['Duration_hours'] = ev_charging_traffic_hourly['Duration_hours'].str.replace(',', '.')\n",
    "ev_charging_traffic_hourly.head()"
   ]
  },
  {
   "cell_type": "markdown",
   "metadata": {},
   "source": [
    "### Task 7\n",
    "\n",
    "Next, convert the data types of all the columns of `ev_charging_traffic` to floats."
   ]
  },
  {
   "cell_type": "code",
   "execution_count": 81,
   "metadata": {},
   "outputs": [
    {
     "name": "stdout",
     "output_type": "stream",
     "text": [
      "<class 'pandas.core.frame.DataFrame'>\n",
      "Int64Index: 6878 entries, 0 to 6877\n",
      "Data columns (total 27 columns):\n",
      " #   Column                                Non-Null Count  Dtype \n",
      "---  ------                                --------------  ----- \n",
      " 0   User_type                             6878 non-null   object\n",
      " 1   El_kWh                                6878 non-null   object\n",
      " 2   Duration_hours                        6844 non-null   object\n",
      " 3   KROPPAN BRU                           6878 non-null   object\n",
      " 4   MOHOLTLIA                             6878 non-null   object\n",
      " 5   SELSBAKK                              6878 non-null   object\n",
      " 6   MOHOLT RAMPE 2                        6878 non-null   int64 \n",
      " 7   Jonsvannsveien vest for Steinanvegen  6878 non-null   int64 \n",
      " 8   Apr                                   6878 non-null   uint8 \n",
      " 9   Aug                                   6878 non-null   uint8 \n",
      " 10  Dec                                   6878 non-null   uint8 \n",
      " 11  Feb                                   6878 non-null   uint8 \n",
      " 12  Jan                                   6878 non-null   uint8 \n",
      " 13  Jul                                   6878 non-null   uint8 \n",
      " 14  Jun                                   6878 non-null   uint8 \n",
      " 15  Mar                                   6878 non-null   uint8 \n",
      " 16  May                                   6878 non-null   uint8 \n",
      " 17  Nov                                   6878 non-null   uint8 \n",
      " 18  Oct                                   6878 non-null   uint8 \n",
      " 19  Sep                                   6878 non-null   uint8 \n",
      " 20  Friday                                6878 non-null   uint8 \n",
      " 21  Monday                                6878 non-null   uint8 \n",
      " 22  Saturday                              6878 non-null   uint8 \n",
      " 23  Sunday                                6878 non-null   uint8 \n",
      " 24  Thursday                              6878 non-null   uint8 \n",
      " 25  Tuesday                               6878 non-null   uint8 \n",
      " 26  Wednesday                             6878 non-null   uint8 \n",
      "dtypes: int64(2), object(6), uint8(19)\n",
      "memory usage: 869.3+ KB\n"
     ]
    }
   ],
   "source": [
    "weekday_ohe = pd.get_dummies(ev_charging_traffic_hourly.weekdays_plugin, drop_first=False)\n",
    "month_ohe = pd.get_dummies(ev_charging_traffic_hourly.month_plugin, drop_first=False)\n",
    "ev_charging_traffic_hourly = ev_charging_traffic_hourly.join([month_ohe, weekday_ohe])\n",
    "ev_charging_traffic_hourly.drop(columns=['month_plugin', 'weekdays_plugin'], inplace=True)\n",
    "ev_charging_traffic_hourly.info()"
   ]
  },
  {
   "cell_type": "code",
   "execution_count": 82,
   "metadata": {},
   "outputs": [
    {
     "data": {
      "text/plain": [
       "array(['Private', 'Shared'], dtype=object)"
      ]
     },
     "execution_count": 82,
     "metadata": {},
     "output_type": "execute_result"
    }
   ],
   "source": [
    "ev_charging_traffic_hourly.User_type.unique()"
   ]
  },
  {
   "cell_type": "code",
   "execution_count": 83,
   "metadata": {},
   "outputs": [],
   "source": [
    "ev_charging_traffic_hourly['User_private'] = np.where(ev_charging_traffic_hourly['User_type'] == 'Private', 1.0, 0.0)\n",
    "ev_charging_traffic_hourly.drop(columns=['User_type'], inplace=True)"
   ]
  },
  {
   "cell_type": "code",
   "execution_count": 84,
   "metadata": {},
   "outputs": [
    {
     "name": "stdout",
     "output_type": "stream",
     "text": [
      "<class 'pandas.core.frame.DataFrame'>\n",
      "Int64Index: 6878 entries, 0 to 6877\n",
      "Data columns (total 27 columns):\n",
      " #   Column                                Non-Null Count  Dtype  \n",
      "---  ------                                --------------  -----  \n",
      " 0   El_kWh                                6878 non-null   object \n",
      " 1   Duration_hours                        6844 non-null   object \n",
      " 2   KROPPAN BRU                           6878 non-null   object \n",
      " 3   MOHOLTLIA                             6878 non-null   object \n",
      " 4   SELSBAKK                              6878 non-null   object \n",
      " 5   MOHOLT RAMPE 2                        6878 non-null   int64  \n",
      " 6   Jonsvannsveien vest for Steinanvegen  6878 non-null   int64  \n",
      " 7   Apr                                   6878 non-null   uint8  \n",
      " 8   Aug                                   6878 non-null   uint8  \n",
      " 9   Dec                                   6878 non-null   uint8  \n",
      " 10  Feb                                   6878 non-null   uint8  \n",
      " 11  Jan                                   6878 non-null   uint8  \n",
      " 12  Jul                                   6878 non-null   uint8  \n",
      " 13  Jun                                   6878 non-null   uint8  \n",
      " 14  Mar                                   6878 non-null   uint8  \n",
      " 15  May                                   6878 non-null   uint8  \n",
      " 16  Nov                                   6878 non-null   uint8  \n",
      " 17  Oct                                   6878 non-null   uint8  \n",
      " 18  Sep                                   6878 non-null   uint8  \n",
      " 19  Friday                                6878 non-null   uint8  \n",
      " 20  Monday                                6878 non-null   uint8  \n",
      " 21  Saturday                              6878 non-null   uint8  \n",
      " 22  Sunday                                6878 non-null   uint8  \n",
      " 23  Thursday                              6878 non-null   uint8  \n",
      " 24  Tuesday                               6878 non-null   uint8  \n",
      " 25  Wednesday                             6878 non-null   uint8  \n",
      " 26  User_private                          6878 non-null   float64\n",
      "dtypes: float64(1), int64(2), object(5), uint8(19)\n",
      "memory usage: 869.3+ KB\n"
     ]
    }
   ],
   "source": [
    "ev_charging_traffic_hourly.info()"
   ]
  },
  {
   "cell_type": "code",
   "execution_count": 85,
   "metadata": {},
   "outputs": [],
   "source": [
    "for c in ev_charging_traffic_hourly.columns:\n",
    "    if ev_charging_traffic_hourly[c].dtype == 'object':\n",
    "        ev_charging_traffic_hourly[c] = ev_charging_traffic_hourly[c].str.replace('-', '0')\n",
    "        ev_charging_traffic_hourly[c] = ev_charging_traffic_hourly[c].replace(to_replace='', value='0')\n",
    "        ev_charging_traffic_hourly[c] = ev_charging_traffic_hourly[c].fillna(0)"
   ]
  },
  {
   "cell_type": "code",
   "execution_count": 86,
   "metadata": {},
   "outputs": [
    {
     "data": {
      "text/html": [
       "<div>\n",
       "<style scoped>\n",
       "    .dataframe tbody tr th:only-of-type {\n",
       "        vertical-align: middle;\n",
       "    }\n",
       "\n",
       "    .dataframe tbody tr th {\n",
       "        vertical-align: top;\n",
       "    }\n",
       "\n",
       "    .dataframe thead th {\n",
       "        text-align: right;\n",
       "    }\n",
       "</style>\n",
       "<table border=\"1\" class=\"dataframe\">\n",
       "  <thead>\n",
       "    <tr style=\"text-align: right;\">\n",
       "      <th></th>\n",
       "      <th>El_kWh</th>\n",
       "      <th>Duration_hours</th>\n",
       "      <th>KROPPAN BRU</th>\n",
       "      <th>MOHOLTLIA</th>\n",
       "      <th>SELSBAKK</th>\n",
       "      <th>MOHOLT RAMPE 2</th>\n",
       "      <th>Jonsvannsveien vest for Steinanvegen</th>\n",
       "      <th>Apr</th>\n",
       "      <th>Aug</th>\n",
       "      <th>Dec</th>\n",
       "      <th>...</th>\n",
       "      <th>Oct</th>\n",
       "      <th>Sep</th>\n",
       "      <th>Friday</th>\n",
       "      <th>Monday</th>\n",
       "      <th>Saturday</th>\n",
       "      <th>Sunday</th>\n",
       "      <th>Thursday</th>\n",
       "      <th>Tuesday</th>\n",
       "      <th>Wednesday</th>\n",
       "      <th>User_private</th>\n",
       "    </tr>\n",
       "  </thead>\n",
       "  <tbody>\n",
       "    <tr>\n",
       "      <th>0</th>\n",
       "      <td>0.30</td>\n",
       "      <td>0.050000</td>\n",
       "      <td>3244.0</td>\n",
       "      <td>1632.0</td>\n",
       "      <td>545.0</td>\n",
       "      <td>194.0</td>\n",
       "      <td>622.0</td>\n",
       "      <td>0.0</td>\n",
       "      <td>0.0</td>\n",
       "      <td>1.0</td>\n",
       "      <td>...</td>\n",
       "      <td>0.0</td>\n",
       "      <td>0.0</td>\n",
       "      <td>1.0</td>\n",
       "      <td>0.0</td>\n",
       "      <td>0.0</td>\n",
       "      <td>0.0</td>\n",
       "      <td>0.0</td>\n",
       "      <td>0.0</td>\n",
       "      <td>0.0</td>\n",
       "      <td>1.0</td>\n",
       "    </tr>\n",
       "    <tr>\n",
       "      <th>1</th>\n",
       "      <td>0.87</td>\n",
       "      <td>0.136667</td>\n",
       "      <td>3244.0</td>\n",
       "      <td>1632.0</td>\n",
       "      <td>545.0</td>\n",
       "      <td>194.0</td>\n",
       "      <td>622.0</td>\n",
       "      <td>0.0</td>\n",
       "      <td>0.0</td>\n",
       "      <td>1.0</td>\n",
       "      <td>...</td>\n",
       "      <td>0.0</td>\n",
       "      <td>0.0</td>\n",
       "      <td>1.0</td>\n",
       "      <td>0.0</td>\n",
       "      <td>0.0</td>\n",
       "      <td>0.0</td>\n",
       "      <td>0.0</td>\n",
       "      <td>0.0</td>\n",
       "      <td>0.0</td>\n",
       "      <td>1.0</td>\n",
       "    </tr>\n",
       "    <tr>\n",
       "      <th>2</th>\n",
       "      <td>29.87</td>\n",
       "      <td>8.216389</td>\n",
       "      <td>3605.0</td>\n",
       "      <td>1691.0</td>\n",
       "      <td>605.0</td>\n",
       "      <td>230.0</td>\n",
       "      <td>771.0</td>\n",
       "      <td>0.0</td>\n",
       "      <td>0.0</td>\n",
       "      <td>1.0</td>\n",
       "      <td>...</td>\n",
       "      <td>0.0</td>\n",
       "      <td>0.0</td>\n",
       "      <td>1.0</td>\n",
       "      <td>0.0</td>\n",
       "      <td>0.0</td>\n",
       "      <td>0.0</td>\n",
       "      <td>0.0</td>\n",
       "      <td>0.0</td>\n",
       "      <td>0.0</td>\n",
       "      <td>1.0</td>\n",
       "    </tr>\n",
       "    <tr>\n",
       "      <th>3</th>\n",
       "      <td>15.56</td>\n",
       "      <td>24.419722</td>\n",
       "      <td>3052.0</td>\n",
       "      <td>1484.0</td>\n",
       "      <td>453.0</td>\n",
       "      <td>224.0</td>\n",
       "      <td>694.0</td>\n",
       "      <td>0.0</td>\n",
       "      <td>0.0</td>\n",
       "      <td>1.0</td>\n",
       "      <td>...</td>\n",
       "      <td>0.0</td>\n",
       "      <td>0.0</td>\n",
       "      <td>0.0</td>\n",
       "      <td>0.0</td>\n",
       "      <td>1.0</td>\n",
       "      <td>0.0</td>\n",
       "      <td>0.0</td>\n",
       "      <td>0.0</td>\n",
       "      <td>0.0</td>\n",
       "      <td>1.0</td>\n",
       "    </tr>\n",
       "    <tr>\n",
       "      <th>4</th>\n",
       "      <td>3.62</td>\n",
       "      <td>0.970556</td>\n",
       "      <td>1390.0</td>\n",
       "      <td>693.0</td>\n",
       "      <td>226.0</td>\n",
       "      <td>83.0</td>\n",
       "      <td>353.0</td>\n",
       "      <td>0.0</td>\n",
       "      <td>0.0</td>\n",
       "      <td>1.0</td>\n",
       "      <td>...</td>\n",
       "      <td>0.0</td>\n",
       "      <td>0.0</td>\n",
       "      <td>0.0</td>\n",
       "      <td>1.0</td>\n",
       "      <td>0.0</td>\n",
       "      <td>0.0</td>\n",
       "      <td>0.0</td>\n",
       "      <td>0.0</td>\n",
       "      <td>0.0</td>\n",
       "      <td>1.0</td>\n",
       "    </tr>\n",
       "  </tbody>\n",
       "</table>\n",
       "<p>5 rows × 27 columns</p>\n",
       "</div>"
      ],
      "text/plain": [
       "   El_kWh  Duration_hours  KROPPAN BRU  MOHOLTLIA  SELSBAKK  MOHOLT RAMPE 2  \\\n",
       "0    0.30        0.050000       3244.0     1632.0     545.0           194.0   \n",
       "1    0.87        0.136667       3244.0     1632.0     545.0           194.0   \n",
       "2   29.87        8.216389       3605.0     1691.0     605.0           230.0   \n",
       "3   15.56       24.419722       3052.0     1484.0     453.0           224.0   \n",
       "4    3.62        0.970556       1390.0      693.0     226.0            83.0   \n",
       "\n",
       "   Jonsvannsveien vest for Steinanvegen  Apr  Aug  Dec  ...  Oct  Sep  Friday  \\\n",
       "0                                 622.0  0.0  0.0  1.0  ...  0.0  0.0     1.0   \n",
       "1                                 622.0  0.0  0.0  1.0  ...  0.0  0.0     1.0   \n",
       "2                                 771.0  0.0  0.0  1.0  ...  0.0  0.0     1.0   \n",
       "3                                 694.0  0.0  0.0  1.0  ...  0.0  0.0     0.0   \n",
       "4                                 353.0  0.0  0.0  1.0  ...  0.0  0.0     0.0   \n",
       "\n",
       "   Monday  Saturday  Sunday  Thursday  Tuesday  Wednesday  User_private  \n",
       "0     0.0       0.0     0.0       0.0      0.0        0.0           1.0  \n",
       "1     0.0       0.0     0.0       0.0      0.0        0.0           1.0  \n",
       "2     0.0       0.0     0.0       0.0      0.0        0.0           1.0  \n",
       "3     0.0       1.0     0.0       0.0      0.0        0.0           1.0  \n",
       "4     1.0       0.0     0.0       0.0      0.0        0.0           1.0  \n",
       "\n",
       "[5 rows x 27 columns]"
      ]
     },
     "execution_count": 86,
     "metadata": {},
     "output_type": "execute_result"
    }
   ],
   "source": [
    "for column in ev_charging_traffic_hourly.columns:\n",
    "    ev_charging_traffic_hourly[column] = ev_charging_traffic_hourly[column].astype(float)\n",
    "\n",
    "ev_charging_traffic_hourly.head()"
   ]
  },
  {
   "cell_type": "markdown",
   "metadata": {},
   "source": [
    "## Task Group 3 - Train Test Split\n",
    "\n",
    "Next, let's split the dataset into training and testing datasets. \n",
    "\n",
    "The training data will be used to train the model and the testing data will be used to evaluate the model."
   ]
  },
  {
   "cell_type": "markdown",
   "metadata": {},
   "source": [
    "### Task 8\n",
    "\n",
    "First, create two datasets from `ev_charging_traffic`:\n",
    "\n",
    "- `X` contains only the input numerical features\n",
    "- `y` contains only the target column `El_kWh`"
   ]
  },
  {
   "cell_type": "code",
   "execution_count": 87,
   "metadata": {},
   "outputs": [],
   "source": [
    "X = ev_charging_traffic_hourly.drop(columns=['El_kWh'])\n",
    "y = ev_charging_traffic_hourly['El_kWh']"
   ]
  },
  {
   "cell_type": "markdown",
   "metadata": {},
   "source": [
    "### Task 9\n",
    "\n",
    "Use `sklearn` to split `X` and `y` into training and testing datasets. The training set should use 80% of the data. Set the `random_state` parameter to `2`."
   ]
  },
  {
   "cell_type": "code",
   "execution_count": 88,
   "metadata": {},
   "outputs": [
    {
     "name": "stderr",
     "output_type": "stream",
     "text": [
      "C:\\Users\\Rogo\\miniconda3\\lib\\site-packages\\scipy\\__init__.py:146: UserWarning: A NumPy version >=1.17.3 and <1.25.0 is required for this version of SciPy (detected version 1.26.4\n",
      "  warnings.warn(f\"A NumPy version >={np_minversion} and <{np_maxversion}\"\n"
     ]
    }
   ],
   "source": [
    "from sklearn.model_selection import train_test_split"
   ]
  },
  {
   "cell_type": "code",
   "execution_count": 90,
   "metadata": {},
   "outputs": [],
   "source": [
    "X_train, X_test, y_train, y_test = train_test_split(X,y,train_size = .8, random_state = 2)"
   ]
  },
  {
   "cell_type": "markdown",
   "metadata": {},
   "source": [
    "## Task Group 4 - Linear Regression Baseline"
   ]
  },
  {
   "cell_type": "markdown",
   "metadata": {},
   "source": [
    "This section is optional, but useful. The idea is to compare our neural network to a basic linear regression. After all, if a basic linear regression works just as well, there's no need for the neural network!\n",
    "\n",
    "If you haven't done linear regression with scikit-learn before, feel free to use [our solution code](./solutions.html) or to skip ahead."
   ]
  },
  {
   "cell_type": "markdown",
   "metadata": {},
   "source": [
    "### Task 10\n",
    "\n",
    "Use Scikit-learn to train a Linear Regression model using the training data to predict EV charging loads.\n",
    "\n",
    "The linear regression will be used as a baseline to compare against the neural network we will train later."
   ]
  },
  {
   "cell_type": "code",
   "execution_count": 94,
   "metadata": {},
   "outputs": [],
   "source": [
    "from sklearn.linear_model import LinearRegression\n",
    "from sklearn.metrics import mean_squared_error"
   ]
  },
  {
   "cell_type": "code",
   "execution_count": 92,
   "metadata": {},
   "outputs": [
    {
     "data": {
      "text/plain": [
       "LinearRegression()"
      ]
     },
     "execution_count": 92,
     "metadata": {},
     "output_type": "execute_result"
    }
   ],
   "source": [
    "lr_model = LinearRegression()\n",
    "lr_model.fit(X_train, y_train)"
   ]
  },
  {
   "cell_type": "markdown",
   "metadata": {},
   "source": [
    "### Task 11\n",
    "\n",
    "Evaluate the linear regression baseline by calculating the MSE on the testing data. Use `mean_squared_error` from `sklearn.metrics`.\n",
    "\n",
    "Save the testing MSE to the variable `test_mse` and print it out."
   ]
  },
  {
   "cell_type": "code",
   "execution_count": 97,
   "metadata": {},
   "outputs": [
    {
     "name": "stdout",
     "output_type": "stream",
     "text": [
      "124.68262070233907\n",
      "118.94288452322971\n"
     ]
    }
   ],
   "source": [
    "y_train_pred = lr_model.predict(X_train)\n",
    "y_test_pred = lr_model.predict(X_test)\n",
    "\n",
    "train_MSE = mean_squared_error(y_train, y_train_pred)\n",
    "test_MSE = mean_squared_error(y_test, y_test_pred)\n",
    "print(train_MSE)\n",
    "print(test_MSE)"
   ]
  },
  {
   "cell_type": "markdown",
   "metadata": {},
   "source": [
    "Looks like our mean squared error is around `131.4` (if you used different columns in your model than we did, you might have a different value). Remember, this is squared error. If we take the square root, we have about `11.5`. One way of interpreting this is to say that the linear regression, on average, is off by `11.5 kWh`."
   ]
  },
  {
   "cell_type": "markdown",
   "metadata": {},
   "source": [
    "## Task Group 5 - Train a Neural Network Using PyTorch\n",
    "\n",
    "Let's now create a neural network using PyTorch to predict EV charging loads."
   ]
  },
  {
   "cell_type": "markdown",
   "metadata": {},
   "source": [
    "### Task 12\n",
    "\n",
    "First, we'll need to import the PyTorch library and modules.\n",
    "\n",
    "Import the PyTorch library `torch`.\n",
    "\n",
    "From `torch`, import `nn` to access built-in code for constructing networks and defining loss functions.\n",
    "\n",
    "From `torch`, import `optim` to access built-in optimizer algorithms."
   ]
  },
  {
   "cell_type": "code",
   "execution_count": null,
   "metadata": {},
   "outputs": [],
   "source": []
  },
  {
   "cell_type": "markdown",
   "metadata": {},
   "source": [
    "### Task 13\n",
    "\n",
    "Before training the neural network, convert the training and testing sets into PyTorch tensors and specify `float` as the data type for the values."
   ]
  },
  {
   "cell_type": "code",
   "execution_count": 98,
   "metadata": {},
   "outputs": [],
   "source": [
    "# Convert training set\n",
    "X_train_tensor = torch.tensor(X_train.values, dtype=torch.float)\n",
    "y_train_tensor = torch.tensor(y_train.values, dtype=torch.float).view(-1,1)\n",
    "\n",
    "# Convert testing set\n",
    "X_test_tensor = torch.tensor(X_test.values, dtype=torch.float)\n",
    "y_test_tensor = torch.tensor(y_test.values, dtype=torch.float).view(-1,1)"
   ]
  },
  {
   "cell_type": "markdown",
   "metadata": {},
   "source": [
    "### Task 14\n",
    "\n",
    "Next, let's use `nn.Sequential` to create a neural network.\n",
    "\n",
    "First, set a random seed using `torch.manual_seed(42)`.\n",
    "\n",
    "Then, create a sequential neural network with the following architecture:\n",
    "\n",
    "- input layer with number of nodes equal to the number of training features\n",
    "- a first hidden layer with `56` nodes and a ReLU activation\n",
    "- a second hidden layer with `26` nodes and a ReLU activation\n",
    "- an output layer with `1` node\n",
    "\n",
    "Save the network to the variable `model`."
   ]
  },
  {
   "cell_type": "code",
   "execution_count": 100,
   "metadata": {},
   "outputs": [
    {
     "data": {
      "text/plain": [
       "torch.Size([5502, 26])"
      ]
     },
     "execution_count": 100,
     "metadata": {},
     "output_type": "execute_result"
    }
   ],
   "source": [
    "X_train_tensor.shape"
   ]
  },
  {
   "cell_type": "code",
   "execution_count": 101,
   "metadata": {},
   "outputs": [],
   "source": [
    "torch.manual_seed(42)\n",
    "model = nn.Sequential(nn.Linear(26,56),\n",
    "        nn.ReLU(),\n",
    "        nn.Linear(56,26),\n",
    "        nn.ReLU(),\n",
    "        nn.Linear(26,1)\n",
    "        )"
   ]
  },
  {
   "cell_type": "markdown",
   "metadata": {},
   "source": [
    "### Task 15\n",
    "\n",
    "Next, let's define the loss function and optimizer used for training:\n",
    "\n",
    "- set the MSE loss function to the variable `loss`\n",
    "- set the Adam optimizer to the variable `optimizer` with a learning rate of `0.0007`"
   ]
  },
  {
   "cell_type": "code",
   "execution_count": 103,
   "metadata": {},
   "outputs": [],
   "source": [
    "loss = nn.MSELoss()\n",
    "optimizer = optim.Adam(model.parameters(), lr=0.0007)"
   ]
  },
  {
   "cell_type": "markdown",
   "metadata": {},
   "source": [
    "### Task 16\n",
    "\n",
    "Create a training loop to train our neural network for 3000 epochs.\n",
    "\n",
    "Keep track of the training loss by printing out the MSE every 500 epochs."
   ]
  },
  {
   "cell_type": "code",
   "execution_count": 108,
   "metadata": {},
   "outputs": [
    {
     "name": "stdout",
     "output_type": "stream",
     "text": [
      "Epoch 500: MSE Loss: 156.6389617919922\n",
      "Epoch 1000: MSE Loss: 137.49032592773438\n",
      "Epoch 1500: MSE Loss: 131.27447509765625\n",
      "Epoch 2000: MSE Loss: 121.94830322265625\n",
      "Epoch 2500: MSE Loss: 116.9332046508789\n",
      "Epoch 3000: MSE Loss: 117.2999496459961\n"
     ]
    }
   ],
   "source": [
    "for i in range(3000):\n",
    "    outputs = model(X_train_tensor)\n",
    "    mse = loss(outputs, y_train_tensor)\n",
    "    mse.backward()\n",
    "    optimizer.step()\n",
    "    optimizer.zero_grad()\n",
    "    if (i + 1) % 500 == 0:\n",
    "        print(f'Epoch {i + 1}: MSE Loss: {mse.item()}')"
   ]
  },
  {
   "cell_type": "markdown",
   "metadata": {},
   "source": [
    "### Task 17\n",
    "\n",
    "Save the neural network in the `models` directory using the path `models/model.pth`."
   ]
  },
  {
   "cell_type": "code",
   "execution_count": 110,
   "metadata": {},
   "outputs": [],
   "source": [
    "torch.save(model, 'model.pth')"
   ]
  },
  {
   "cell_type": "markdown",
   "metadata": {},
   "source": [
    "### Task 18\n",
    "\n",
    "Evaluate the neural network on the testing set. \n",
    "\n",
    "Save the testing data loss to the variable `test_loss` and use `.item()` to extract and print out the loss. "
   ]
  },
  {
   "cell_type": "code",
   "execution_count": 111,
   "metadata": {},
   "outputs": [
    {
     "data": {
      "text/plain": [
       "114.16789245605469"
      ]
     },
     "execution_count": 111,
     "metadata": {},
     "output_type": "execute_result"
    }
   ],
   "source": [
    "test_outputs = model(X_test_tensor)\n",
    "test_loss = loss(test_outputs, y_test_tensor)\n",
    "test_loss.item()"
   ]
  },
  {
   "cell_type": "markdown",
   "metadata": {},
   "source": [
    "### Task 19\n",
    "\n",
    "We trained this same model for 4500 epochs locally. That model is saved as `models/model4500.pth`. Load this model using PyTorch and evaluate it. How well does the longer-trained model perform?"
   ]
  },
  {
   "cell_type": "code",
   "execution_count": null,
   "metadata": {},
   "outputs": [],
   "source": []
  },
  {
   "cell_type": "markdown",
   "metadata": {},
   "source": [
    "Pretty cool! The increased training improved our test loss to about `115.2`, a full `12%` improvement on our linear regression baseline. So the nonlinearity introduced by the neural network actually helped us out."
   ]
  },
  {
   "cell_type": "markdown",
   "metadata": {},
   "source": [
    "That's the end of our project on predicting EV charging loads! Feel free to continue experimenting with this neural network model. \n",
    "\n",
    "Some things you might want to investigate further include:\n",
    "- explore different ways to clean and prepare the data\n",
    "- we added traffic data, but there's no guarantee that more data converts to a better model. Test out different sets of input columns.\n",
    "- test out different number of nodes in the hidden layers, activation functions, and learning rates\n",
    "- train on a larger number of epochs "
   ]
  },
  {
   "cell_type": "code",
   "execution_count": null,
   "metadata": {},
   "outputs": [],
   "source": []
  }
 ],
 "metadata": {
  "kernelspec": {
   "display_name": "Python 3 (ipykernel)",
   "language": "python",
   "name": "python3"
  },
  "language_info": {
   "codemirror_mode": {
    "name": "ipython",
    "version": 3
   },
   "file_extension": ".py",
   "mimetype": "text/x-python",
   "name": "python",
   "nbconvert_exporter": "python",
   "pygments_lexer": "ipython3",
   "version": "3.9.5"
  }
 },
 "nbformat": 4,
 "nbformat_minor": 4
}
