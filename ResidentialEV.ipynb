{
 "cells": [
  {
   "cell_type": "markdown",
   "metadata": {},
   "source": [
    "# Predicting Residential EV Charging Loads using Neural Networks"
   ]
  },
  {
   "cell_type": "code",
   "execution_count": 1,
   "metadata": {},
   "outputs": [],
   "source": [
    "import numpy as np\n",
    "import pandas as pd\n",
    "import torch\n",
    "import torch.nn as nn\n",
    "import torch.optim as optim"
   ]
  },
  {
   "cell_type": "markdown",
   "metadata": {},
   "source": [
    "## Load, Inspect, and Merge Datasets"
   ]
  },
  {
   "cell_type": "markdown",
   "metadata": {},
   "source": [
    "### Task 1\n",
    "\n",
    "The file `'datasets/EV charging reports.csv'` contains electric vehicle (EV) charging data. These come from various residential apartment buildings in Norway. The data includes specific user and garage information, plug-in and plug-out times, charging loads, and the dates of the charging sessions.\n",
    "\n",
    "Import this CSV file to a pandas DataFrame named `ev_charging_reports`.\n",
    "\n",
    "Use the `.head()` method to preview the first five rows."
   ]
  },
  {
   "cell_type": "code",
   "execution_count": 21,
   "metadata": {},
   "outputs": [
    {
     "data": {
      "text/html": [
       "<div>\n",
       "<style scoped>\n",
       "    .dataframe tbody tr th:only-of-type {\n",
       "        vertical-align: middle;\n",
       "    }\n",
       "\n",
       "    .dataframe tbody tr th {\n",
       "        vertical-align: top;\n",
       "    }\n",
       "\n",
       "    .dataframe thead th {\n",
       "        text-align: right;\n",
       "    }\n",
       "</style>\n",
       "<table border=\"1\" class=\"dataframe\">\n",
       "  <thead>\n",
       "    <tr style=\"text-align: right;\">\n",
       "      <th></th>\n",
       "      <th>session_ID</th>\n",
       "      <th>Garage_ID</th>\n",
       "      <th>User_ID</th>\n",
       "      <th>User_type</th>\n",
       "      <th>Shared_ID</th>\n",
       "      <th>Start_plugin</th>\n",
       "      <th>Start_plugin_hour</th>\n",
       "      <th>End_plugout</th>\n",
       "      <th>End_plugout_hour</th>\n",
       "      <th>El_kWh</th>\n",
       "      <th>Duration_hours</th>\n",
       "      <th>month_plugin</th>\n",
       "      <th>weekdays_plugin</th>\n",
       "      <th>Plugin_category</th>\n",
       "      <th>Duration_category</th>\n",
       "    </tr>\n",
       "  </thead>\n",
       "  <tbody>\n",
       "    <tr>\n",
       "      <th>0</th>\n",
       "      <td>1</td>\n",
       "      <td>AdO3</td>\n",
       "      <td>AdO3-4</td>\n",
       "      <td>Private</td>\n",
       "      <td>NaN</td>\n",
       "      <td>21.12.2018 10:20</td>\n",
       "      <td>21.12.2018 10:00</td>\n",
       "      <td>21.12.2018 10:23</td>\n",
       "      <td>10.0</td>\n",
       "      <td>0,3</td>\n",
       "      <td>0,05</td>\n",
       "      <td>Dec</td>\n",
       "      <td>Friday</td>\n",
       "      <td>late morning (9-12)</td>\n",
       "      <td>Less than 3 hours</td>\n",
       "    </tr>\n",
       "    <tr>\n",
       "      <th>1</th>\n",
       "      <td>2</td>\n",
       "      <td>AdO3</td>\n",
       "      <td>AdO3-4</td>\n",
       "      <td>Private</td>\n",
       "      <td>NaN</td>\n",
       "      <td>21.12.2018 10:24</td>\n",
       "      <td>21.12.2018 10:00</td>\n",
       "      <td>21.12.2018 10:32</td>\n",
       "      <td>10.0</td>\n",
       "      <td>0,87</td>\n",
       "      <td>0,136666667</td>\n",
       "      <td>Dec</td>\n",
       "      <td>Friday</td>\n",
       "      <td>late morning (9-12)</td>\n",
       "      <td>Less than 3 hours</td>\n",
       "    </tr>\n",
       "    <tr>\n",
       "      <th>2</th>\n",
       "      <td>3</td>\n",
       "      <td>AdO3</td>\n",
       "      <td>AdO3-4</td>\n",
       "      <td>Private</td>\n",
       "      <td>NaN</td>\n",
       "      <td>21.12.2018 11:33</td>\n",
       "      <td>21.12.2018 11:00</td>\n",
       "      <td>21.12.2018 19:46</td>\n",
       "      <td>19.0</td>\n",
       "      <td>29,87</td>\n",
       "      <td>8,216388889</td>\n",
       "      <td>Dec</td>\n",
       "      <td>Friday</td>\n",
       "      <td>late morning (9-12)</td>\n",
       "      <td>Between 6 and 9  hours</td>\n",
       "    </tr>\n",
       "    <tr>\n",
       "      <th>3</th>\n",
       "      <td>4</td>\n",
       "      <td>AdO3</td>\n",
       "      <td>AdO3-2</td>\n",
       "      <td>Private</td>\n",
       "      <td>NaN</td>\n",
       "      <td>22.12.2018 16:15</td>\n",
       "      <td>22.12.2018 16:00</td>\n",
       "      <td>23.12.2018 16:40</td>\n",
       "      <td>16.0</td>\n",
       "      <td>15,56</td>\n",
       "      <td>24,41972222</td>\n",
       "      <td>Dec</td>\n",
       "      <td>Saturday</td>\n",
       "      <td>late afternoon (15-18)</td>\n",
       "      <td>More than 18 hours</td>\n",
       "    </tr>\n",
       "    <tr>\n",
       "      <th>4</th>\n",
       "      <td>5</td>\n",
       "      <td>AdO3</td>\n",
       "      <td>AdO3-2</td>\n",
       "      <td>Private</td>\n",
       "      <td>NaN</td>\n",
       "      <td>24.12.2018 22:03</td>\n",
       "      <td>24.12.2018 22:00</td>\n",
       "      <td>24.12.2018 23:02</td>\n",
       "      <td>23.0</td>\n",
       "      <td>3,62</td>\n",
       "      <td>0,970555556</td>\n",
       "      <td>Dec</td>\n",
       "      <td>Monday</td>\n",
       "      <td>late evening (21-midnight)</td>\n",
       "      <td>Less than 3 hours</td>\n",
       "    </tr>\n",
       "  </tbody>\n",
       "</table>\n",
       "</div>"
      ],
      "text/plain": [
       "   session_ID Garage_ID User_ID User_type Shared_ID      Start_plugin  \\\n",
       "0           1      AdO3  AdO3-4   Private       NaN  21.12.2018 10:20   \n",
       "1           2      AdO3  AdO3-4   Private       NaN  21.12.2018 10:24   \n",
       "2           3      AdO3  AdO3-4   Private       NaN  21.12.2018 11:33   \n",
       "3           4      AdO3  AdO3-2   Private       NaN  22.12.2018 16:15   \n",
       "4           5      AdO3  AdO3-2   Private       NaN  24.12.2018 22:03   \n",
       "\n",
       "  Start_plugin_hour       End_plugout  End_plugout_hour El_kWh Duration_hours  \\\n",
       "0  21.12.2018 10:00  21.12.2018 10:23              10.0    0,3           0,05   \n",
       "1  21.12.2018 10:00  21.12.2018 10:32              10.0   0,87    0,136666667   \n",
       "2  21.12.2018 11:00  21.12.2018 19:46              19.0  29,87    8,216388889   \n",
       "3  22.12.2018 16:00  23.12.2018 16:40              16.0  15,56    24,41972222   \n",
       "4  24.12.2018 22:00  24.12.2018 23:02              23.0   3,62    0,970555556   \n",
       "\n",
       "  month_plugin weekdays_plugin             Plugin_category  \\\n",
       "0          Dec          Friday         late morning (9-12)   \n",
       "1          Dec          Friday         late morning (9-12)   \n",
       "2          Dec          Friday         late morning (9-12)   \n",
       "3          Dec        Saturday      late afternoon (15-18)   \n",
       "4          Dec          Monday  late evening (21-midnight)   \n",
       "\n",
       "        Duration_category  \n",
       "0       Less than 3 hours  \n",
       "1       Less than 3 hours  \n",
       "2  Between 6 and 9  hours  \n",
       "3      More than 18 hours  \n",
       "4       Less than 3 hours  "
      ]
     },
     "execution_count": 21,
     "metadata": {},
     "output_type": "execute_result"
    }
   ],
   "source": [
    "ev_charging_reports = pd.read_csv('Dataset 1_EV charging reports.csv', sep=';')\n",
    "pd.read_csv\n",
    "ev_charging_reports['Start_plugin_hour'] = ev_charging_reports['Start_plugin'].apply(lambda x: x[:-3]) + ':00'\n",
    "ev_charging_reports.head()"
   ]
  },
  {
   "cell_type": "markdown",
   "metadata": {},
   "source": [
    "<details><summary style=\"display:list-item; font-size:16px; color:blue;\">What is the structure of the dataset?</summary>\n",
    "\n",
    "- **session_ID** - the unique id for each EV charging session\n",
    "- **Garage_ID** - the unique id for the garage of the apartment\n",
    "- **User_ID** - the unique id for each user\n",
    "- **User_private** - 1.0 indicates private charge point spaces and 0.0 indicates shared charge point spaces\n",
    "- **Shared_ID** - the unique id if shared charge point spaces are used\n",
    "- **Start_plugin** - the plug-in date and time in the format (day.month.year hour:minute)\n",
    "- **Start_plugin_hour** - the plug-in date and time rounded to the start of the hour\n",
    "- **End_plugout** - the plug-out date and time in the format (day.month.year hour:minute)\n",
    "- **End_plugout_hour** - the start of the hour of the `End_plugout` hour\n",
    "- **El_kWh** - the charged energy in kWh (charging loads)\n",
    "- **Duration_hours** - the duration of the EV connection time per session\n",
    "- **Plugin_category** - the plug-in time categorized by early/late night, morning, afternoon, and evening\n",
    "- **Duration_category** - the plug-in duration categorized by 3 hour groups\n",
    "- **month_plugin_{month}** - the month of the plug-in session\n",
    "- **weekdays_plugin_{day}** - the day of the week of the plug-in session"
   ]
  },
  {
   "cell_type": "markdown",
   "metadata": {},
   "source": [
    "### Task 2\n",
    "\n",
    "Import the file `'datasets/Local traffic distribution.csv'` to a pandas DataFrame named `traffic_reports`. This dataset contains the hourly local traffic density counts at 5 nearby traffic locations. \n",
    "\n",
    "Preview the first five rows."
   ]
  },
  {
   "cell_type": "code",
   "execution_count": 6,
   "metadata": {},
   "outputs": [
    {
     "data": {
      "text/html": [
       "<div>\n",
       "<style scoped>\n",
       "    .dataframe tbody tr th:only-of-type {\n",
       "        vertical-align: middle;\n",
       "    }\n",
       "\n",
       "    .dataframe tbody tr th {\n",
       "        vertical-align: top;\n",
       "    }\n",
       "\n",
       "    .dataframe thead th {\n",
       "        text-align: right;\n",
       "    }\n",
       "</style>\n",
       "<table border=\"1\" class=\"dataframe\">\n",
       "  <thead>\n",
       "    <tr style=\"text-align: right;\">\n",
       "      <th></th>\n",
       "      <th>Date_from</th>\n",
       "      <th>Date_to</th>\n",
       "      <th>KROPPAN BRU</th>\n",
       "      <th>MOHOLTLIA</th>\n",
       "      <th>SELSBAKK</th>\n",
       "      <th>MOHOLT RAMPE 2</th>\n",
       "      <th>Jonsvannsveien vest for Steinanvegen</th>\n",
       "    </tr>\n",
       "  </thead>\n",
       "  <tbody>\n",
       "    <tr>\n",
       "      <th>0</th>\n",
       "      <td>01.12.2018 00:00</td>\n",
       "      <td>01.12.2018 01:00</td>\n",
       "      <td>639</td>\n",
       "      <td>0</td>\n",
       "      <td>0</td>\n",
       "      <td>4</td>\n",
       "      <td>144</td>\n",
       "    </tr>\n",
       "    <tr>\n",
       "      <th>1</th>\n",
       "      <td>01.12.2018 01:00</td>\n",
       "      <td>01.12.2018 02:00</td>\n",
       "      <td>487</td>\n",
       "      <td>153</td>\n",
       "      <td>115</td>\n",
       "      <td>21</td>\n",
       "      <td>83</td>\n",
       "    </tr>\n",
       "    <tr>\n",
       "      <th>2</th>\n",
       "      <td>01.12.2018 02:00</td>\n",
       "      <td>01.12.2018 03:00</td>\n",
       "      <td>408</td>\n",
       "      <td>85</td>\n",
       "      <td>75</td>\n",
       "      <td>10</td>\n",
       "      <td>69</td>\n",
       "    </tr>\n",
       "    <tr>\n",
       "      <th>3</th>\n",
       "      <td>01.12.2018 03:00</td>\n",
       "      <td>01.12.2018 04:00</td>\n",
       "      <td>282</td>\n",
       "      <td>89</td>\n",
       "      <td>56</td>\n",
       "      <td>8</td>\n",
       "      <td>39</td>\n",
       "    </tr>\n",
       "    <tr>\n",
       "      <th>4</th>\n",
       "      <td>01.12.2018 04:00</td>\n",
       "      <td>01.12.2018 05:00</td>\n",
       "      <td>165</td>\n",
       "      <td>64</td>\n",
       "      <td>34</td>\n",
       "      <td>3</td>\n",
       "      <td>25</td>\n",
       "    </tr>\n",
       "  </tbody>\n",
       "</table>\n",
       "</div>"
      ],
      "text/plain": [
       "          Date_from           Date_to KROPPAN BRU MOHOLTLIA SELSBAKK  \\\n",
       "0  01.12.2018 00:00  01.12.2018 01:00         639         0        0   \n",
       "1  01.12.2018 01:00  01.12.2018 02:00         487       153      115   \n",
       "2  01.12.2018 02:00  01.12.2018 03:00         408        85       75   \n",
       "3  01.12.2018 03:00  01.12.2018 04:00         282        89       56   \n",
       "4  01.12.2018 04:00  01.12.2018 05:00         165        64       34   \n",
       "\n",
       "   MOHOLT RAMPE 2  Jonsvannsveien vest for Steinanvegen  \n",
       "0               4                                   144  \n",
       "1              21                                    83  \n",
       "2              10                                    69  \n",
       "3               8                                    39  \n",
       "4               3                                    25  "
      ]
     },
     "execution_count": 6,
     "metadata": {},
     "output_type": "execute_result"
    }
   ],
   "source": [
    "traffic_reports = pd.read_csv('Dataset 6_Local traffic distribution.csv', sep=';')\n",
    "traffic_reports.head()"
   ]
  },
  {
   "cell_type": "markdown",
   "metadata": {},
   "source": [
    "<details><summary style=\"display:list-item; font-size:16px; color:blue;\">What is the structure of the dataset?</summary>\n",
    "\n",
    "- **Date_from** - the starting time in the format (day.month.year hour:minute)\n",
    "- **Date_to** - the ending time in the format (day.month.year hour:minute)\n",
    "- **Location 1 to 5** - contains the number of vehicles each hour at a specified traffic location.\n"
   ]
  },
  {
   "cell_type": "markdown",
   "metadata": {},
   "source": [
    "### Task 3\n",
    "\n",
    "We'd like to use the traffic data to help our model. The same charging location may charge at different rates depending on the number of cars being charged, so this traffic data might help the model out.\n",
    "\n",
    "Merge the `ev_charging_reports` and `traffic_reports` datasets together into a Dataframe named `ev_charging_traffic` using the columns:\n",
    "\n",
    "- `Start_plugin_hour` in `ev_charging_reports`\n",
    "- `Date_from` in `traffic_reports`"
   ]
  },
  {
   "cell_type": "code",
   "execution_count": null,
   "metadata": {},
   "outputs": [],
   "source": [
    "ev_charging_traffic = pd.merge"
   ]
  },
  {
   "cell_type": "markdown",
   "metadata": {},
   "source": [
    "### Task 4\n",
    "\n",
    "Use `.info()` to inspect the merged dataset. Specifically, pay attention to the data types and number of missing values in each column."
   ]
  },
  {
   "cell_type": "code",
   "execution_count": null,
   "metadata": {},
   "outputs": [],
   "source": []
  },
  {
   "cell_type": "markdown",
   "metadata": {},
   "source": [
    "<details><summary style=\"display:list-item; font-size:16px; color:blue;\">What do we notice about merged dataset under inspection?</summary>\n",
    "\n",
    "We see that there are 39 columns and 6,833 rows in our merged dataset.\n",
    "\n",
    "Some notable things we might have to address:\n",
    "\n",
    "- We expected columns like `El_kWh` and `Duration_hours` to be floats but they are actually object data types.\n",
    "\n",
    "- There are many identifying columns like `session_ID` and `User_ID` that might not be useful for training."
   ]
  },
  {
   "cell_type": "markdown",
   "metadata": {},
   "source": [
    "## Task Group 2 - Data Cleaning and Preparation"
   ]
  },
  {
   "cell_type": "markdown",
   "metadata": {},
   "source": [
    "### Task 5\n",
    "\n",
    "Let's start by reducing the size of our dataset by dropping columns that won't be used for training. These include\n",
    "- ID columns\n",
    "- columns with lots of missing data\n",
    "- non-numeric columns (for now, since we haven't yet covered using non-numeric data in neural networks)\n",
    "\n",
    "Drop columns you don't want to use in training from `ev_charging_traffic_hourly`.\n",
    "\n",
    "To match our solution, drop the columns\n",
    "\n",
    "```py\n",
    "['session_ID', 'Garage_ID', 'User_ID', \n",
    "                'Shared_ID',\n",
    "                'Plugin_category','Duration_category', \n",
    "                'Start_plugin', 'Start_plugin_hour', 'End_plugout', 'End_plugout_hour', \n",
    "                'Date_from', 'Date_to']\n",
    "```"
   ]
  },
  {
   "cell_type": "code",
   "execution_count": null,
   "metadata": {},
   "outputs": [],
   "source": []
  },
  {
   "cell_type": "markdown",
   "metadata": {},
   "source": [
    "### Task 6\n",
    "\n",
    "Earlier we saw that the `El_kWh` and `Duration_hours` columns were object data types. Upon further inspection, we see that the reason is that the data is following European notation where commas `,` are used as decimals instead of periods.\n",
    "\n",
    "Replace `,` with `.` in these three columns."
   ]
  },
  {
   "cell_type": "code",
   "execution_count": null,
   "metadata": {},
   "outputs": [],
   "source": []
  },
  {
   "cell_type": "markdown",
   "metadata": {},
   "source": [
    "### Task 7\n",
    "\n",
    "Next, convert the data types of all the columns of `ev_charging_traffic` to floats."
   ]
  },
  {
   "cell_type": "code",
   "execution_count": null,
   "metadata": {},
   "outputs": [],
   "source": []
  },
  {
   "cell_type": "markdown",
   "metadata": {},
   "source": [
    "## Task Group 3 - Train Test Split\n",
    "\n",
    "Next, let's split the dataset into training and testing datasets. \n",
    "\n",
    "The training data will be used to train the model and the testing data will be used to evaluate the model."
   ]
  },
  {
   "cell_type": "markdown",
   "metadata": {},
   "source": [
    "### Task 8\n",
    "\n",
    "First, create two datasets from `ev_charging_traffic`:\n",
    "\n",
    "- `X` contains only the input numerical features\n",
    "- `y` contains only the target column `El_kWh`"
   ]
  },
  {
   "cell_type": "code",
   "execution_count": null,
   "metadata": {},
   "outputs": [],
   "source": []
  },
  {
   "cell_type": "markdown",
   "metadata": {},
   "source": [
    "### Task 9\n",
    "\n",
    "Use `sklearn` to split `X` and `y` into training and testing datasets. The training set should use 80% of the data. Set the `random_state` parameter to `2`."
   ]
  },
  {
   "cell_type": "code",
   "execution_count": null,
   "metadata": {},
   "outputs": [],
   "source": []
  },
  {
   "cell_type": "markdown",
   "metadata": {},
   "source": [
    "## Task Group 4 - Linear Regression Baseline"
   ]
  },
  {
   "cell_type": "markdown",
   "metadata": {},
   "source": [
    "This section is optional, but useful. The idea is to compare our neural network to a basic linear regression. After all, if a basic linear regression works just as well, there's no need for the neural network!\n",
    "\n",
    "If you haven't done linear regression with scikit-learn before, feel free to use [our solution code](./solutions.html) or to skip ahead."
   ]
  },
  {
   "cell_type": "markdown",
   "metadata": {},
   "source": [
    "### Task 10\n",
    "\n",
    "Use Scikit-learn to train a Linear Regression model using the training data to predict EV charging loads.\n",
    "\n",
    "The linear regression will be used as a baseline to compare against the neural network we will train later."
   ]
  },
  {
   "cell_type": "code",
   "execution_count": null,
   "metadata": {},
   "outputs": [],
   "source": []
  },
  {
   "cell_type": "markdown",
   "metadata": {},
   "source": [
    "### Task 11\n",
    "\n",
    "Evaluate the linear regression baseline by calculating the MSE on the testing data. Use `mean_squared_error` from `sklearn.metrics`.\n",
    "\n",
    "Save the testing MSE to the variable `test_mse` and print it out."
   ]
  },
  {
   "cell_type": "code",
   "execution_count": null,
   "metadata": {},
   "outputs": [],
   "source": []
  },
  {
   "cell_type": "markdown",
   "metadata": {},
   "source": [
    "Looks like our mean squared error is around `131.4` (if you used different columns in your model than we did, you might have a different value). Remember, this is squared error. If we take the square root, we have about `11.5`. One way of interpreting this is to say that the linear regression, on average, is off by `11.5 kWh`."
   ]
  },
  {
   "cell_type": "markdown",
   "metadata": {},
   "source": [
    "## Task Group 5 - Train a Neural Network Using PyTorch\n",
    "\n",
    "Let's now create a neural network using PyTorch to predict EV charging loads."
   ]
  },
  {
   "cell_type": "markdown",
   "metadata": {},
   "source": [
    "### Task 12\n",
    "\n",
    "First, we'll need to import the PyTorch library and modules.\n",
    "\n",
    "Import the PyTorch library `torch`.\n",
    "\n",
    "From `torch`, import `nn` to access built-in code for constructing networks and defining loss functions.\n",
    "\n",
    "From `torch`, import `optim` to access built-in optimizer algorithms."
   ]
  },
  {
   "cell_type": "code",
   "execution_count": null,
   "metadata": {},
   "outputs": [],
   "source": []
  },
  {
   "cell_type": "markdown",
   "metadata": {},
   "source": [
    "### Task 13\n",
    "\n",
    "Before training the neural network, convert the training and testing sets into PyTorch tensors and specify `float` as the data type for the values."
   ]
  },
  {
   "cell_type": "code",
   "execution_count": null,
   "metadata": {},
   "outputs": [],
   "source": []
  },
  {
   "cell_type": "markdown",
   "metadata": {},
   "source": [
    "### Task 14\n",
    "\n",
    "Next, let's use `nn.Sequential` to create a neural network.\n",
    "\n",
    "First, set a random seed using `torch.manual_seed(42)`.\n",
    "\n",
    "Then, create a sequential neural network with the following architecture:\n",
    "\n",
    "- input layer with number of nodes equal to the number of training features\n",
    "- a first hidden layer with `56` nodes and a ReLU activation\n",
    "- a second hidden layer with `26` nodes and a ReLU activation\n",
    "- an output layer with `1` node\n",
    "\n",
    "Save the network to the variable `model`."
   ]
  },
  {
   "cell_type": "code",
   "execution_count": null,
   "metadata": {},
   "outputs": [],
   "source": []
  },
  {
   "cell_type": "markdown",
   "metadata": {},
   "source": [
    "### Task 15\n",
    "\n",
    "Next, let's define the loss function and optimizer used for training:\n",
    "\n",
    "- set the MSE loss function to the variable `loss`\n",
    "- set the Adam optimizer to the variable `optimizer` with a learning rate of `0.0007`"
   ]
  },
  {
   "cell_type": "code",
   "execution_count": null,
   "metadata": {},
   "outputs": [],
   "source": []
  },
  {
   "cell_type": "markdown",
   "metadata": {},
   "source": [
    "### Task 16\n",
    "\n",
    "Create a training loop to train our neural network for 3000 epochs.\n",
    "\n",
    "Keep track of the training loss by printing out the MSE every 500 epochs."
   ]
  },
  {
   "cell_type": "code",
   "execution_count": null,
   "metadata": {},
   "outputs": [],
   "source": []
  },
  {
   "cell_type": "markdown",
   "metadata": {},
   "source": [
    "### Task 17\n",
    "\n",
    "Save the neural network in the `models` directory using the path `models/model.pth`."
   ]
  },
  {
   "cell_type": "code",
   "execution_count": null,
   "metadata": {},
   "outputs": [],
   "source": []
  },
  {
   "cell_type": "markdown",
   "metadata": {},
   "source": [
    "### Task 18\n",
    "\n",
    "Evaluate the neural network on the testing set. \n",
    "\n",
    "Save the testing data loss to the variable `test_loss` and use `.item()` to extract and print out the loss. "
   ]
  },
  {
   "cell_type": "code",
   "execution_count": null,
   "metadata": {},
   "outputs": [],
   "source": []
  },
  {
   "cell_type": "markdown",
   "metadata": {},
   "source": [
    "### Task 19\n",
    "\n",
    "We trained this same model for 4500 epochs locally. That model is saved as `models/model4500.pth`. Load this model using PyTorch and evaluate it. How well does the longer-trained model perform?"
   ]
  },
  {
   "cell_type": "code",
   "execution_count": null,
   "metadata": {},
   "outputs": [],
   "source": []
  },
  {
   "cell_type": "markdown",
   "metadata": {},
   "source": [
    "Pretty cool! The increased training improved our test loss to about `115.2`, a full `12%` improvement on our linear regression baseline. So the nonlinearity introduced by the neural network actually helped us out."
   ]
  },
  {
   "cell_type": "markdown",
   "metadata": {},
   "source": [
    "That's the end of our project on predicting EV charging loads! Feel free to continue experimenting with this neural network model. \n",
    "\n",
    "Some things you might want to investigate further include:\n",
    "- explore different ways to clean and prepare the data\n",
    "- we added traffic data, but there's no guarantee that more data converts to a better model. Test out different sets of input columns.\n",
    "- test out different number of nodes in the hidden layers, activation functions, and learning rates\n",
    "- train on a larger number of epochs "
   ]
  },
  {
   "cell_type": "code",
   "execution_count": null,
   "metadata": {},
   "outputs": [],
   "source": []
  }
 ],
 "metadata": {
  "kernelspec": {
   "display_name": "Python 3 (ipykernel)",
   "language": "python",
   "name": "python3"
  },
  "language_info": {
   "codemirror_mode": {
    "name": "ipython",
    "version": 3
   },
   "file_extension": ".py",
   "mimetype": "text/x-python",
   "name": "python",
   "nbconvert_exporter": "python",
   "pygments_lexer": "ipython3",
   "version": "3.9.5"
  }
 },
 "nbformat": 4,
 "nbformat_minor": 4
}
